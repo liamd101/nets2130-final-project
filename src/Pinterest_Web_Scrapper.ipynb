{
 "cells": [
  {
   "cell_type": "code",
   "execution_count": null,
   "metadata": {
    "colab": {
     "base_uri": "https://localhost:8080/"
    },
    "id": "8O0Wsb8WnxXl",
    "outputId": "88693ddd-a7d2-4f2a-ab68-5cd32789021c"
   },
   "outputs": [
    {
     "name": "stdout",
     "output_type": "stream",
     "text": [
      "Requirement already satisfied: pinscrape in /usr/local/lib/python3.10/dist-packages (4.0.0)\n",
      "Requirement already satisfied: pytest==7.2.0 in /usr/local/lib/python3.10/dist-packages (from pinscrape) (7.2.0)\n",
      "Requirement already satisfied: requests~=2.32.2 in /usr/local/lib/python3.10/dist-packages (from pinscrape) (2.32.3)\n",
      "Requirement already satisfied: beautifulsoup4==4.11.1 in /usr/local/lib/python3.10/dist-packages (from pinscrape) (4.11.1)\n",
      "Requirement already satisfied: pydotmap~=0.1.3 in /usr/local/lib/python3.10/dist-packages (from pinscrape) (0.1.3)\n",
      "Requirement already satisfied: opencv-python~=4.9.0.80 in /usr/local/lib/python3.10/dist-packages (from pinscrape) (4.9.0.80)\n",
      "Requirement already satisfied: numpy~=1.24.2 in /usr/local/lib/python3.10/dist-packages (from pinscrape) (1.24.4)\n",
      "Requirement already satisfied: soupsieve>1.2 in /usr/local/lib/python3.10/dist-packages (from beautifulsoup4==4.11.1->pinscrape) (2.6)\n",
      "Requirement already satisfied: attrs>=19.2.0 in /usr/local/lib/python3.10/dist-packages (from pytest==7.2.0->pinscrape) (24.2.0)\n",
      "Requirement already satisfied: iniconfig in /usr/local/lib/python3.10/dist-packages (from pytest==7.2.0->pinscrape) (2.0.0)\n",
      "Requirement already satisfied: packaging in /usr/local/lib/python3.10/dist-packages (from pytest==7.2.0->pinscrape) (24.2)\n",
      "Requirement already satisfied: pluggy<2.0,>=0.12 in /usr/local/lib/python3.10/dist-packages (from pytest==7.2.0->pinscrape) (1.5.0)\n",
      "Requirement already satisfied: exceptiongroup>=1.0.0rc8 in /usr/local/lib/python3.10/dist-packages (from pytest==7.2.0->pinscrape) (1.2.2)\n",
      "Requirement already satisfied: tomli>=1.0.0 in /usr/local/lib/python3.10/dist-packages (from pytest==7.2.0->pinscrape) (2.0.2)\n",
      "Requirement already satisfied: charset-normalizer<4,>=2 in /usr/local/lib/python3.10/dist-packages (from requests~=2.32.2->pinscrape) (3.4.0)\n",
      "Requirement already satisfied: idna<4,>=2.5 in /usr/local/lib/python3.10/dist-packages (from requests~=2.32.2->pinscrape) (3.10)\n",
      "Requirement already satisfied: urllib3<3,>=1.21.1 in /usr/local/lib/python3.10/dist-packages (from requests~=2.32.2->pinscrape) (2.2.3)\n",
      "Requirement already satisfied: certifi>=2017.4.17 in /usr/local/lib/python3.10/dist-packages (from requests~=2.32.2->pinscrape) (2024.8.30)\n"
     ]
    }
   ],
   "source": [
    "%pip install pinscrape"
   ]
  },
  {
   "cell_type": "code",
   "execution_count": 14,
   "metadata": {
    "colab": {
     "base_uri": "https://localhost:8080/"
    },
    "id": "3Jqgz_I-n0g-",
    "outputId": "7a76c7a4-e443-46e5-9631-784a8839822d"
   },
   "outputs": [
    {
     "name": "stdout",
     "output_type": "stream",
     "text": [
      "Scraping topic: coachella\n",
      "Scraping topic: marathon\n",
      "Scraping topic: new year's eve\n",
      "Scraping topic: graduation\n",
      "Scraping topic: concert\n",
      "Data saved to pinterest_data.json\n"
     ]
    }
   ],
   "source": [
    "import json\n",
    "from pinscrape import scraper, Pinterest\n",
    "\n",
    "# Output folder for downloads\n",
    "output_folder = \"NETS2130\"\n",
    "proxies = {}\n",
    "number_of_workers = 10\n",
    "images_to_download = 20  # Set to 20 images per topic\n",
    "\n",
    "# List of topics to scrape\n",
    "topics = [\"coachella\", \"marathon\", \"new year's eve\", \"graduation\", \"concert\"]\n",
    "\n",
    "# Function to scrape using search engine\n",
    "def using_search_engine(keyword):\n",
    "    details = scraper.scrape(keyword, output_folder, proxies, number_of_workers, images_to_download)\n",
    "    if details[\"isDownloaded\"]:\n",
    "        return [{\"url\": url, \"keyword\": keyword} for url in details[\"urls_list\"]]\n",
    "    else:\n",
    "        return []\n",
    "\n",
    "# Function to scrape using Pinterest APIs\n",
    "def using_pinterest_apis(keyword):\n",
    "    p = Pinterest(proxies=proxies)\n",
    "    images_url = p.search(keyword, images_to_download)\n",
    "    p.download(url_list=images_url, number_of_workers=number_of_workers, output_folder=output_folder)\n",
    "    return [{\"url\": url, \"keyword\": keyword} for url in images_url]\n",
    "\n",
    "# Main function to scrape all topics and save results\n",
    "def scrape_topics_and_save():\n",
    "    all_data = []\n",
    "\n",
    "    for topic in topics:\n",
    "        print(f\"Scraping topic: {topic}\")\n",
    "        search_engine_data = using_search_engine(topic)\n",
    "        pinterest_data = using_pinterest_apis(topic)\n",
    "\n",
    "        # Append data from both search engine and Pinterest API scrapes\n",
    "        all_data.extend(search_engine_data)\n",
    "        all_data.extend(pinterest_data)\n",
    "\n",
    "    # Save all data to JSON file\n",
    "    with open(\"pinterest_data.json\", \"w\") as f:\n",
    "        json.dump(all_data, f, indent=4)\n",
    "    print(\"Data saved to pinterest_data.json\")\n",
    "\n",
    "# Run the function\n",
    "scrape_topics_and_save()\n"
   ]
  },
  {
   "cell_type": "code",
   "execution_count": 15,
   "metadata": {
    "colab": {
     "base_uri": "https://localhost:8080/",
     "height": 17
    },
    "id": "o5vvgNTmowuS",
    "outputId": "2e73dcad-d8cc-43a8-a348-84e4e67ceac4"
   },
   "outputs": [
    {
     "data": {
      "application/javascript": "\n    async function download(id, filename, size) {\n      if (!google.colab.kernel.accessAllowed) {\n        return;\n      }\n      const div = document.createElement('div');\n      const label = document.createElement('label');\n      label.textContent = `Downloading \"${filename}\": `;\n      div.appendChild(label);\n      const progress = document.createElement('progress');\n      progress.max = size;\n      div.appendChild(progress);\n      document.body.appendChild(div);\n\n      const buffers = [];\n      let downloaded = 0;\n\n      const channel = await google.colab.kernel.comms.open(id);\n      // Send a message to notify the kernel that we're ready.\n      channel.send({})\n\n      for await (const message of channel.messages) {\n        // Send a message to notify the kernel that we're ready.\n        channel.send({})\n        if (message.buffers) {\n          for (const buffer of message.buffers) {\n            buffers.push(buffer);\n            downloaded += buffer.byteLength;\n            progress.value = downloaded;\n          }\n        }\n      }\n      const blob = new Blob(buffers, {type: 'application/binary'});\n      const a = document.createElement('a');\n      a.href = window.URL.createObjectURL(blob);\n      a.download = filename;\n      div.appendChild(a);\n      a.click();\n      div.remove();\n    }\n  ",
      "text/plain": [
       "<IPython.core.display.Javascript object>"
      ]
     },
     "metadata": {},
     "output_type": "display_data"
    },
    {
     "data": {
      "application/javascript": "download(\"download_e5ebf1a6-b1be-4406-968b-c316618ca7f8\", \"pinterest_data.json\", 13242)",
      "text/plain": [
       "<IPython.core.display.Javascript object>"
      ]
     },
     "metadata": {},
     "output_type": "display_data"
    }
   ],
   "source": [
    "from google.colab import files\n",
    "files.download(\"pinterest_data.json\")"
   ]
  }
 ],
 "metadata": {
  "colab": {
   "provenance": []
  },
  "kernelspec": {
   "display_name": "Python 3",
   "name": "python3"
  },
  "language_info": {
   "name": "python"
  }
 },
 "nbformat": 4,
 "nbformat_minor": 0
}
